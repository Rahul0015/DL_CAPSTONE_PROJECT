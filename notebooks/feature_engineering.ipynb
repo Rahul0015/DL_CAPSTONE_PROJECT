{
 "cells": [
  {
   "cell_type": "code",
   "execution_count": 2,
   "id": "69efef7e",
   "metadata": {},
   "outputs": [],
   "source": [
    "\n",
    "import pandas as pd\n",
    "import numpy as np\n",
    "import os\n",
    "from sklearn.preprocessing import LabelEncoder\n",
    "from sklearn.model_selection import train_test_split\n",
    "from sklearn.feature_extraction.text import TfidfVectorizer\n",
    "import pickle"
   ]
  },
  {
   "cell_type": "code",
   "execution_count": 3,
   "id": "ad2eaf5b",
   "metadata": {},
   "outputs": [
    {
     "name": "stdout",
     "output_type": "stream",
     "text": [
      "✅ Feature engineering complete. Files saved in /data/processed\n"
     ]
    }
   ],
   "source": [
    "# 2_feature_engineering.ipynb\n",
    "# Simplified feature engineering pipeline for NeSy Protect project\n",
    "\n",
    "\n",
    "# === Setup Paths ===\n",
    "BASE_DIR = os.path.dirname(os.getcwd())\n",
    "DATA_PATH = os.path.join(BASE_DIR, 'data', 'interim', \"C:/Users/rahul/Desktop/Deeplcapstone/data/interim/cleaned_india_terrorism.csv\")\n",
    "PROCESSED_DIR = os.path.join(BASE_DIR, 'data', 'processed')\n",
    "os.makedirs(PROCESSED_DIR, exist_ok=True)\n",
    "\n",
    "# === Load Data ===\n",
    "df = pd.read_csv(DATA_PATH)\n",
    "\n",
    "# === Generate Threat Level Labels (Binary) ===\n",
    "df['threat_level'] = df['casualties'].apply(lambda x: 'High' if x >= 5 else 'Low')\n",
    "\n",
    "# === Encode Labels ===\n",
    "label_encoder = LabelEncoder()\n",
    "df['label'] = label_encoder.fit_transform(df['threat_level'])  # High=1, Low=0\n",
    "\n",
    "# === Text Vectorization ===\n",
    "tfidf = TfidfVectorizer(max_features=5000, stop_words='english')\n",
    "X_text = tfidf.fit_transform(df['summary'].astype(str)).toarray()\n",
    "\n",
    "# === Save TF-IDF model ===\n",
    "with open(os.path.join(PROCESSED_DIR, 'tfidf_vectorizer.pkl'), 'wb') as f:\n",
    "    pickle.dump(tfidf, f)\n",
    "\n",
    "# === Save Label Encoder ===\n",
    "with open(os.path.join(PROCESSED_DIR, 'label_encoder.pkl'), 'wb') as f:\n",
    "    pickle.dump(label_encoder, f)\n",
    "\n",
    "# === Train-Test Split ===\n",
    "y = df['label']\n",
    "X_train, X_test, y_train, y_test = train_test_split(X_text, y, test_size=0.2, random_state=42)\n",
    "\n",
    "# === Save Features ===\n",
    "np.save(os.path.join(PROCESSED_DIR, 'X_train.npy'), X_train)\n",
    "np.save(os.path.join(PROCESSED_DIR, 'X_test.npy'), X_test)\n",
    "np.save(os.path.join(PROCESSED_DIR, 'y_train.npy'), y_train)\n",
    "np.save(os.path.join(PROCESSED_DIR, 'y_test.npy'), y_test)\n",
    "\n",
    "print(\"✅ Feature engineering complete. Files saved in /data/processed\")\n"
   ]
  }
 ],
 "metadata": {
  "kernelspec": {
   "display_name": "venv",
   "language": "python",
   "name": "python3"
  },
  "language_info": {
   "codemirror_mode": {
    "name": "ipython",
    "version": 3
   },
   "file_extension": ".py",
   "mimetype": "text/x-python",
   "name": "python",
   "nbconvert_exporter": "python",
   "pygments_lexer": "ipython3",
   "version": "3.13.3"
  }
 },
 "nbformat": 4,
 "nbformat_minor": 5
}
